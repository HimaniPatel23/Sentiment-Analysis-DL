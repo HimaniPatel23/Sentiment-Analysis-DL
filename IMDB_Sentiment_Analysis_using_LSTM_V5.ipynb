{
  "nbformat": 4,
  "nbformat_minor": 0,
  "metadata": {
    "kernelspec": {
      "display_name": "Python 3",
      "language": "python",
      "name": "python3"
    },
    "language_info": {
      "codemirror_mode": {
        "name": "ipython",
        "version": 3
      },
      "file_extension": ".py",
      "mimetype": "text/x-python",
      "name": "python",
      "nbconvert_exporter": "python",
      "pygments_lexer": "ipython3",
      "version": "3.6.10"
    },
    "colab": {
      "name": "IMDB Sentiment Analysis using LSTM.ipynb",
      "provenance": [],
      "collapsed_sections": [],
      "toc_visible": true
    },
    "accelerator": "TPU"
  },
  "cells": [
    {
      "cell_type": "markdown",
      "metadata": {
        "id": "0t2Fx6Z_ozir",
        "colab_type": "text"
      },
      "source": [
        "# Sentiment Analysis on IMDB Data using Long-short term memory"
      ]
    },
    {
      "cell_type": "markdown",
      "metadata": {
        "id": "GAL7jhweozis",
        "colab_type": "text"
      },
      "source": [
        "> <i> Sentiment classification is the task of looking at a piece of text and telling if someone likes or dislikes the thing they’re talking about. </i> \n",
        "[[1](https://towardsdatascience.com/machine-learning-word-embedding-sentiment-classification-using-keras-b83c28087456)]"
      ]
    },
    {
      "cell_type": "markdown",
      "metadata": {
        "id": "C42gyWRZozit",
        "colab_type": "text"
      },
      "source": [
        "## IMDB Dataset\n",
        "> IMDB released a adataset containing 50K reviews with their sentiment values. This is a dataset for binary sentiment classification containing substantially more data than previous benchmark datasets. [[2](https://www.kaggle.com/lakshmi25npathi/imdb-dataset-of-50k-movie-reviews)]"
      ]
    },
    {
      "cell_type": "markdown",
      "metadata": {
        "id": "OStwIJ8Oozit",
        "colab_type": "text"
      },
      "source": [
        "## Architecture\n",
        "For this classification model, we will build a deep neural network for sentiment classification using Word embeddings. \n",
        "The model will consitst 4 differnet modules which are described in the architecture of the model is described below:<br/>\n",
        "![Architecture](architeacture.png)"
      ]
    },
    {
      "cell_type": "markdown",
      "metadata": {
        "id": "6p3hde3Joziu",
        "colab_type": "text"
      },
      "source": [
        "### Modules\n",
        "> <b>Text</b><br/>\n",
        "IMDB reviews dataset includes the cleaned reviews (removed symbols, lower case etc). <br/>\n",
        "<br/>\n",
        "\n",
        "> <b> Embedding Layer</b> <br/>\n",
        "Word Embedding is a representation of text where words that have the same meaning have a similar representation. In other words it represents words in a coordinate system where related words, based on a corpus of relationships, are placed closer together. In the deep learning frameworks such as TensorFlow, Keras, this part is usually handled by an embedding layer which stores a lookup table to map the words represented by numeric indexes to their dense vector representations.<br/>\n",
        "<br/>\n",
        "\n",
        "> <b> Deep Network LSTM </b><br/>\n",
        "Deep network takes the sequence of embedding vectors as input and converts them to a compressed representation. The compressed representation effectively captures all the information in the sequence of words in the text. The deep network part is usually an RNN or some architecture of it like LSTM/GRU. The dropout is added to overcome the tendency to overfit, which is a very common problem with RNN based networks. Please refer [here](https://towardsdatascience.com/illustrated-guide-to-lstms-and-gru-s-a-step-by-step-explanation-44e9eb85bf21) for detailed discussion on LSTM,GRU.\n",
        "<br/>\n",
        "\n",
        "> <b> Fully Connected Layer </b><br/>\n",
        "The fully connected layer takes the deep representation from the RNN/LSTM/GRU and transforms it into the final output classes or class scores. This component is comprised of fully connected layers along with batch normalization and optionally dropout layers for regularization. <br/>\n",
        "<br/>\n",
        "\n",
        "> <b> Output Layer </b><br/>\n",
        "Based on the problem at hand, this layer can have either Sigmoid for binary classification or Softmax for both binary and multi classification output.<br/>"
      ]
    },
    {
      "cell_type": "code",
      "metadata": {
        "id": "rsQMCxWGoziu",
        "colab_type": "code",
        "colab": {}
      },
      "source": [
        "# Input Libraries\n",
        "import numpy as np\n",
        "import pandas as pd\n",
        "import re\n",
        "import string\n",
        "from tqdm import tqdm\n",
        "import math\n",
        "import tensorflow as tf\n",
        "import sklearn"
      ],
      "execution_count": 1,
      "outputs": []
    },
    {
      "cell_type": "code",
      "metadata": {
        "id": "LfGytnLvo2Hc",
        "colab_type": "code",
        "colab": {}
      },
      "source": [
        "%tensorflow_version 2.x"
      ],
      "execution_count": 2,
      "outputs": []
    },
    {
      "cell_type": "code",
      "metadata": {
        "id": "XoizmkZ5o6XS",
        "colab_type": "code",
        "colab": {
          "base_uri": "https://localhost:8080/",
          "height": 124
        },
        "outputId": "ba0bc627-04fd-4080-b75d-9c7d6fe09386"
      },
      "source": [
        "from google.colab import drive\n",
        "drive.mount('/gdrive')"
      ],
      "execution_count": 3,
      "outputs": [
        {
          "output_type": "stream",
          "text": [
            "Go to this URL in a browser: https://accounts.google.com/o/oauth2/auth?client_id=947318989803-6bn6qk8qdgf4n4g3pfee6491hc0brc4i.apps.googleusercontent.com&redirect_uri=urn%3aietf%3awg%3aoauth%3a2.0%3aoob&scope=email%20https%3a%2f%2fwww.googleapis.com%2fauth%2fdocs.test%20https%3a%2f%2fwww.googleapis.com%2fauth%2fdrive%20https%3a%2f%2fwww.googleapis.com%2fauth%2fdrive.photos.readonly%20https%3a%2f%2fwww.googleapis.com%2fauth%2fpeopleapi.readonly&response_type=code\n",
            "\n",
            "Enter your authorization code:\n",
            "··········\n",
            "Mounted at /gdrive\n"
          ],
          "name": "stdout"
        }
      ]
    },
    {
      "cell_type": "code",
      "metadata": {
        "id": "6xhIUAa-oziy",
        "colab_type": "code",
        "colab": {}
      },
      "source": [
        "# Read dataset from data folder\n",
        "dataset = pd.read_csv('/gdrive/My Drive/data/IMDB Dataset.csv')"
      ],
      "execution_count": 4,
      "outputs": []
    },
    {
      "cell_type": "code",
      "metadata": {
        "id": "SVUe8HxSozi1",
        "colab_type": "code",
        "colab": {
          "base_uri": "https://localhost:8080/",
          "height": 202
        },
        "outputId": "d091d5bb-2ea7-4441-e207-6407176ae9cd"
      },
      "source": [
        "dataset.head()"
      ],
      "execution_count": 5,
      "outputs": [
        {
          "output_type": "execute_result",
          "data": {
            "text/html": [
              "<div>\n",
              "<style scoped>\n",
              "    .dataframe tbody tr th:only-of-type {\n",
              "        vertical-align: middle;\n",
              "    }\n",
              "\n",
              "    .dataframe tbody tr th {\n",
              "        vertical-align: top;\n",
              "    }\n",
              "\n",
              "    .dataframe thead th {\n",
              "        text-align: right;\n",
              "    }\n",
              "</style>\n",
              "<table border=\"1\" class=\"dataframe\">\n",
              "  <thead>\n",
              "    <tr style=\"text-align: right;\">\n",
              "      <th></th>\n",
              "      <th>review</th>\n",
              "      <th>sentiment</th>\n",
              "    </tr>\n",
              "  </thead>\n",
              "  <tbody>\n",
              "    <tr>\n",
              "      <th>0</th>\n",
              "      <td>One of the other reviewers has mentioned that ...</td>\n",
              "      <td>positive</td>\n",
              "    </tr>\n",
              "    <tr>\n",
              "      <th>1</th>\n",
              "      <td>A wonderful little production. &lt;br /&gt;&lt;br /&gt;The...</td>\n",
              "      <td>positive</td>\n",
              "    </tr>\n",
              "    <tr>\n",
              "      <th>2</th>\n",
              "      <td>I thought this was a wonderful way to spend ti...</td>\n",
              "      <td>positive</td>\n",
              "    </tr>\n",
              "    <tr>\n",
              "      <th>3</th>\n",
              "      <td>Basically there's a family where a little boy ...</td>\n",
              "      <td>negative</td>\n",
              "    </tr>\n",
              "    <tr>\n",
              "      <th>4</th>\n",
              "      <td>Petter Mattei's \"Love in the Time of Money\" is...</td>\n",
              "      <td>positive</td>\n",
              "    </tr>\n",
              "  </tbody>\n",
              "</table>\n",
              "</div>"
            ],
            "text/plain": [
              "                                              review sentiment\n",
              "0  One of the other reviewers has mentioned that ...  positive\n",
              "1  A wonderful little production. <br /><br />The...  positive\n",
              "2  I thought this was a wonderful way to spend ti...  positive\n",
              "3  Basically there's a family where a little boy ...  negative\n",
              "4  Petter Mattei's \"Love in the Time of Money\" is...  positive"
            ]
          },
          "metadata": {
            "tags": []
          },
          "execution_count": 5
        }
      ]
    },
    {
      "cell_type": "markdown",
      "metadata": {
        "id": "lcBXjh4sozi4",
        "colab_type": "text"
      },
      "source": [
        "## Data Pre-processing"
      ]
    },
    {
      "cell_type": "code",
      "metadata": {
        "id": "w8LHoE9Yozi5",
        "colab_type": "code",
        "colab": {}
      },
      "source": [
        "# Label encode sentiment \n",
        "from sklearn.preprocessing import LabelEncoder\n",
        "lb = LabelEncoder()\n",
        "\n",
        "dataset['sentiment'] = lb.fit_transform(dataset['sentiment'])"
      ],
      "execution_count": 6,
      "outputs": []
    },
    {
      "cell_type": "markdown",
      "metadata": {
        "id": "YYccMhicozi7",
        "colab_type": "text"
      },
      "source": [
        "### Label Encoding\n",
        "| Sentiment | Label \n",
        "| :- | -: \n",
        "| Positive | 1\n",
        "| Negative | 0"
      ]
    },
    {
      "cell_type": "code",
      "metadata": {
        "id": "1YkUAju8ozi8",
        "colab_type": "code",
        "colab": {}
      },
      "source": [
        "# Function to remove all the html tags from test\n",
        "def cleanhtml(raw_html):\n",
        "    cleanr = re.compile('<.*?>|&([a-z0-9]+|#[0-9]{1,6}|#x[0-9a-f]{1,6});')\n",
        "    cleantext = re.sub(cleanr, '', raw_html)\n",
        "    return cleantext"
      ],
      "execution_count": 7,
      "outputs": []
    },
    {
      "cell_type": "code",
      "metadata": {
        "id": "Eu6R8s81ozi_",
        "colab_type": "code",
        "colab": {}
      },
      "source": [
        "# Function to remove all the numbers from text\n",
        "def remove_numbers(text):\n",
        "    text1 = re.sub(r'\\d+', '', text)\n",
        "    return text1"
      ],
      "execution_count": 8,
      "outputs": []
    },
    {
      "cell_type": "code",
      "metadata": {
        "id": "ekMT9X8WozjD",
        "colab_type": "code",
        "colab": {}
      },
      "source": [
        "# Function to remove punctuations and symbols from test\n",
        "def remove_symbol(text):\n",
        "    for char in string.punctuation:\n",
        "        text = text.replace(char,'')\n",
        "    return text"
      ],
      "execution_count": 9,
      "outputs": []
    },
    {
      "cell_type": "code",
      "metadata": {
        "id": "kL8y1VU8ozjF",
        "colab_type": "code",
        "colab": {}
      },
      "source": [
        "# In this processs lets remove all symbols, html tags, numbers and lower case all the words\n",
        "def clean_data(text):\n",
        "  cleaned_corpus = []\n",
        "\n",
        "  for i in tqdm(range(len(text))):\n",
        "      temp = text[i] #str(dataset['review'].iloc[i])\n",
        "\n",
        "      # remove html tage\n",
        "      temp = cleanhtml(temp)\n",
        "\n",
        "      # remove numbers\n",
        "      temp = remove_numbers(temp)\n",
        "\n",
        "      # remove punctuations\n",
        "      temp = remove_symbol(temp)\n",
        "      \n",
        "      # remove all the numbers \n",
        "      temp1 = []\n",
        "      for i in temp.split():\n",
        "          if not i.isdigit():\n",
        "              temp1.append(i)\n",
        "\n",
        "      # join the list\n",
        "      temp = \" \".join(temp1)\n",
        "      \n",
        "      # convert all the words into lower case\n",
        "      temp = str(temp).lower()\n",
        "      \n",
        "      # remove nan\n",
        "      temp = [x for x in temp.split() if str(x) != 'nan']\n",
        "      \n",
        "      cleaned_corpus.append(\" \".join(temp))\n",
        "  return cleaned_corpus"
      ],
      "execution_count": 10,
      "outputs": []
    },
    {
      "cell_type": "code",
      "metadata": {
        "id": "BSJH6Q4h2ImH",
        "colab_type": "code",
        "colab": {
          "base_uri": "https://localhost:8080/",
          "height": 35
        },
        "outputId": "b4db028f-878c-46c6-9909-27a0c80d16e3"
      },
      "source": [
        "# Call clean_data method to clean the reviews\n",
        "cleaned_corpus = clean_data(dataset['review'].to_list())"
      ],
      "execution_count": 11,
      "outputs": [
        {
          "output_type": "stream",
          "text": [
            "100%|██████████| 50000/50000 [00:10<00:00, 4876.49it/s]\n"
          ],
          "name": "stderr"
        }
      ]
    },
    {
      "cell_type": "code",
      "metadata": {
        "id": "0BtZIJ2iozjH",
        "colab_type": "code",
        "colab": {
          "base_uri": "https://localhost:8080/",
          "height": 283
        },
        "outputId": "a43ea006-b862-4555-d613-f6ad28a55fba"
      },
      "source": [
        "dataset['sentiment'].value_counts().plot(kind='barh')"
      ],
      "execution_count": 12,
      "outputs": [
        {
          "output_type": "execute_result",
          "data": {
            "text/plain": [
              "<matplotlib.axes._subplots.AxesSubplot at 0x7f34d23f8908>"
            ]
          },
          "metadata": {
            "tags": []
          },
          "execution_count": 12
        },
        {
          "output_type": "display_data",
          "data": {
            "image/png": "[encoded data removed]",
            "text/plain": [
              "<Figure size 432x288 with 1 Axes>"
            ]
          },
          "metadata": {
            "tags": [],
            "needs_background": "light"
          }
        }
      ]
    },
    {
      "cell_type": "markdown",
      "metadata": {
        "id": "0b56M10EozjJ",
        "colab_type": "text"
      },
      "source": [
        "### Note\n",
        "> Looks like out dataset is well-balanced (Same # of review samples in both classes)"
      ]
    },
    {
      "cell_type": "code",
      "metadata": {
        "id": "H7vA7ySFozjK",
        "colab_type": "code",
        "colab": {}
      },
      "source": [
        "# Cleaning the data to remove nan(float type) from string\n",
        "corpus = []\n",
        "for i in cleaned_corpus:\n",
        "    temp = []\n",
        "    for j in i.split():\n",
        "        if not j==math.nan:\n",
        "            temp.append(j)\n",
        "    corpus.append(\" \".join(temp))\n",
        "dataset['review'] = [str(i) for i in corpus]"
      ],
      "execution_count": 13,
      "outputs": []
    },
    {
      "cell_type": "code",
      "metadata": {
        "id": "Awdz84bUKEPy",
        "colab_type": "code",
        "colab": {}
      },
      "source": [
        "# dataset_positive = dataset.loc[dataset['sentiment'] == 1]\n",
        "# dataset_negative = dataset.loc[dataset['sentiment'] == 0]"
      ],
      "execution_count": 14,
      "outputs": []
    },
    {
      "cell_type": "code",
      "metadata": {
        "id": "JOpdVTOnLc0X",
        "colab_type": "code",
        "colab": {}
      },
      "source": [
        "# # Get 50% sample from original data\n",
        "# dataset1 = pd.concat([dataset_positive.sample(frac=0.5, replace=False, random_state=1),dataset_negative.sample(frac=0.5, replace=False, random_state=1)])\n",
        "# dataset1.head()"
      ],
      "execution_count": 15,
      "outputs": []
    },
    {
      "cell_type": "code",
      "metadata": {
        "id": "gdNwiAYAPilL",
        "colab_type": "code",
        "colab": {}
      },
      "source": [
        "# dataset1.shape"
      ],
      "execution_count": 16,
      "outputs": []
    },
    {
      "cell_type": "code",
      "metadata": {
        "id": "Cuu9q3ySozjO",
        "colab_type": "code",
        "colab": {}
      },
      "source": [
        "# # Let's split the data into training and test data\n",
        "# from sklearn.model_selection import train_test_split\n",
        "# X_train, X_test,y_train, y_test = train_test_split(dataset1['review'], dataset1['sentiment'], test_size=0.25)"
      ],
      "execution_count": 17,
      "outputs": []
    },
    {
      "cell_type": "code",
      "metadata": {
        "id": "nqA8VeehP0oq",
        "colab_type": "code",
        "colab": {}
      },
      "source": [
        "# # Checking the counts of sentiment in each test and train data\n",
        "# unique, counts = np.unique(y_test, return_counts=True)\n",
        "# print(unique, counts)"
      ],
      "execution_count": 18,
      "outputs": []
    },
    {
      "cell_type": "code",
      "metadata": {
        "id": "_PY__qBP_jA-",
        "colab_type": "code",
        "colab": {}
      },
      "source": [
        "X_train = dataset.loc[:24999, 'review'].values\n",
        "X_test = dataset.loc[25000:, 'review'].values\n",
        "y_train = dataset.loc[:24999, 'sentiment'].values\n",
        "y_test = dataset.loc[25000:, 'sentiment'].values"
      ],
      "execution_count": 19,
      "outputs": []
    },
    {
      "cell_type": "markdown",
      "metadata": {
        "id": "INxQMLuSozjW",
        "colab_type": "text"
      },
      "source": [
        "### Word Embeddings\n",
        "> The word embeddings of our dataset can be learned while training a neural network on the classification problem. Before it can be presented to the network, the text data is first encoded so that each word is represented by a unique integer. This data preparation step can be performed using the Tokenizer API provided with Keras. We add padding to make all the vectors of same length (max_length). Below code converts the text to integer indexes, now ready to be used in Keras embedding layer."
      ]
    },
    {
      "cell_type": "code",
      "metadata": {
        "id": "rYuEbcYc4zeX",
        "colab_type": "code",
        "colab": {}
      },
      "source": [
        "# Function to get the length of longest review\n",
        "def max_len(x):\n",
        "  return len(x.split())"
      ],
      "execution_count": 20,
      "outputs": []
    },
    {
      "cell_type": "code",
      "metadata": {
        "id": "1wUsoR0J4Elx",
        "colab_type": "code",
        "colab": {}
      },
      "source": [
        "# get the max length of review column\n",
        "dataset['Max Length'] = dataset['review'].apply(max_len)"
      ],
      "execution_count": 21,
      "outputs": []
    },
    {
      "cell_type": "code",
      "metadata": {
        "id": "fUyehsFo48sQ",
        "colab_type": "code",
        "colab": {
          "base_uri": "https://localhost:8080/",
          "height": 35
        },
        "outputId": "2dbc6fb2-db78-4bb7-ac46-a3e0230738a8"
      },
      "source": [
        "dataset['Max Length'].max()"
      ],
      "execution_count": 22,
      "outputs": [
        {
          "output_type": "execute_result",
          "data": {
            "text/plain": [
              "2441"
            ]
          },
          "metadata": {
            "tags": []
          },
          "execution_count": 22
        }
      ]
    },
    {
      "cell_type": "code",
      "metadata": {
        "id": "AahyjAWJozjZ",
        "colab_type": "code",
        "colab": {}
      },
      "source": [
        "from tensorflow.python.keras.preprocessing.text import Tokenizer\n",
        "from tensorflow.python.keras.preprocessing.sequence import pad_sequences\n",
        "\n",
        "tokenizer = Tokenizer(lower=False, oov_token='<OOV>') # adding a OOV (Out of Vocabulary tag to identify words that are outside of corpus)\n",
        "total_reviews = np.concatenate((X_train, X_test))\n",
        "tokenizer.fit_on_texts(total_reviews)\n",
        "\n",
        "max_length = dataset['Max Length'].max()\n",
        "\n",
        "# define vocabulary size\n",
        "vocabulary_size = len(tokenizer.word_index) + 1"
      ],
      "execution_count": 23,
      "outputs": []
    },
    {
      "cell_type": "code",
      "metadata": {
        "id": "Ekv8ziL5BLly",
        "colab_type": "code",
        "colab": {
          "base_uri": "https://localhost:8080/",
          "height": 35
        },
        "outputId": "1527ef28-b52a-4a42-dd2b-b3a832c6bbd9"
      },
      "source": [
        "vocabulary_size, max_length"
      ],
      "execution_count": 24,
      "outputs": [
        {
          "output_type": "execute_result",
          "data": {
            "text/plain": [
              "(215723, 2441)"
            ]
          },
          "metadata": {
            "tags": []
          },
          "execution_count": 24
        }
      ]
    },
    {
      "cell_type": "code",
      "metadata": {
        "id": "zylYZYwCozjc",
        "colab_type": "code",
        "colab": {}
      },
      "source": [
        "X_train_tokens = tokenizer.texts_to_sequences(X_train)\n",
        "X_test_tokens = tokenizer.texts_to_sequences(X_test)"
      ],
      "execution_count": 25,
      "outputs": []
    },
    {
      "cell_type": "code",
      "metadata": {
        "id": "6TQ0u5qfozjf",
        "colab_type": "code",
        "colab": {
          "base_uri": "https://localhost:8080/",
          "height": 35
        },
        "outputId": "015773ec-74e4-4aad-d64f-c4c193d8381f"
      },
      "source": [
        "# Checking the length of review before and after converting to sequences\n",
        "len(X_train_tokens[0]) == len(X_train[0].split())"
      ],
      "execution_count": 26,
      "outputs": [
        {
          "output_type": "execute_result",
          "data": {
            "text/plain": [
              "True"
            ]
          },
          "metadata": {
            "tags": []
          },
          "execution_count": 26
        }
      ]
    },
    {
      "cell_type": "code",
      "metadata": {
        "id": "AjsuMPwdRJJ6",
        "colab_type": "code",
        "colab": {}
      },
      "source": [
        "# for x,y in zip(X_train[0].split(), X_train_tokens[0]):\n",
        "#   print(x,y)"
      ],
      "execution_count": 27,
      "outputs": []
    },
    {
      "cell_type": "code",
      "metadata": {
        "id": "bBrKyYf_ozjj",
        "colab_type": "code",
        "colab": {}
      },
      "source": [
        "\n",
        "# Padding the sequences \n",
        "X_train_pad = pad_sequences(X_train_tokens, maxlen=max_length, padding='post')\n",
        "X_test_pad = pad_sequences(X_test_tokens, maxlen=max_length, padding='post')"
      ],
      "execution_count": 28,
      "outputs": []
    },
    {
      "cell_type": "markdown",
      "metadata": {
        "id": "H87nzmHHozjl",
        "colab_type": "text"
      },
      "source": [
        "## Build the model"
      ]
    },
    {
      "cell_type": "markdown",
      "metadata": {
        "id": "pWqnFkBbZGMp",
        "colab_type": "text"
      },
      "source": [
        "### **Gated Recurrent Unit**\n",
        "\n",
        "| ![GRU.jpg](https://miro.medium.com/max/1050/1*jhi5uOm9PvZfmxvfaCektw.png) | \n",
        "|:--:| \n",
        "| Figure 1: GRU Cell Picture [[0](https://towardsdatascience.com/illustrated-guide-to-lstms-and-gru-s-a-step-by-step-explanation-44e9eb85bf21)] |\n",
        "\n",
        "[This](https://towardsdatascience.com/illustrated-guide-to-lstms-and-gru-s-a-step-by-step-explanation-44e9eb85bf21) article is a great resource for <i> GRU vs LSTM</i>."
      ]
    },
    {
      "cell_type": "code",
      "metadata": {
        "id": "Feu1xAZVozjm",
        "colab_type": "code",
        "colab": {}
      },
      "source": [
        "from tensorflow.keras.models import Sequential\n",
        "from tensorflow.keras.layers import Embedding, LSTM, GRU, Dense\n",
        "# from keras.layers.embeddings import Embedding\n",
        "\n",
        "## GRU (Gated Recurrent Unit) model\n",
        "# EMBEDDING_DIM=100\n",
        "# print('Build Model..')\n",
        "\n",
        "# model = Sequential()\n",
        "# model.add(Embedding(vocabulary_size, EMBEDDING_DIM, input_length=max_length))\n",
        "# model.add(GRU(units=32, dropout=0.2, recurrent_dropout=0.2))\n",
        "# model.add(Dense(1, activation='sigmoid'))\n",
        "\n",
        "# # Since this is binary classification model, lets use binary_classification as loss\n",
        "# model.compile(loss='binary_crossentropy', optimizer='adam', metrics=['accuracy'])"
      ],
      "execution_count": 29,
      "outputs": []
    },
    {
      "cell_type": "markdown",
      "metadata": {
        "id": "0lh8TiPDXPbJ",
        "colab_type": "text"
      },
      "source": [
        "### **Global Average Pooling** \n",
        "Global average and global max pooling reduce the spatial size of the feature map/representation to one feature map for each category (classification task).\n",
        "\n",
        "**Example:** Let's say we have an image of a cat. Global average pooling will take the average of all the actiavtion of all the activation values and tell us about the overall strength of the image, i.e. whether the image is of the cat or not. \n",
        "\n",
        "Global max pooling, on the other hand will take the maximum of the activation values. This will help identify the strongest trait of the image, say, ears of the dog. Similarity, in the case of textual data, global max pooling highlights the phrase with the most information while global average pooling indicates the overall value of the sentence. [[1](https://www.datasciencediscovery.com/index.php/2019/03/11/nlp-with-dl/)]"
      ]
    },
    {
      "cell_type": "code",
      "metadata": {
        "id": "tOp3kxbkozjp",
        "colab_type": "code",
        "colab": {}
      },
      "source": [
        "EMBEDDING_DIM=100\n",
        "\n",
        "# Global Average Pooling\n",
        "model = tf.keras.Sequential([\n",
        "    tf.keras.layers.Embedding(vocabulary_size, EMBEDDING_DIM, input_length=max_length),\n",
        "    tf.keras.layers.GlobalAveragePooling1D(),\n",
        "    tf.keras.layers.Dense(24, activation='relu'),\n",
        "    tf.keras.layers.Dense(1, activation='sigmoid')\n",
        "])\n",
        "model.compile(loss='binary_crossentropy',optimizer='adam',metrics=['accuracy'])"
      ],
      "execution_count": 30,
      "outputs": []
    },
    {
      "cell_type": "markdown",
      "metadata": {
        "id": "XccZ-4iJbUQD",
        "colab_type": "text"
      },
      "source": [
        "### **LSTM (Long Short Term Memory)**\n",
        "\n",
        "LSTM has been an improvement over vanilla RNN as they are able to capture long term dependencies by introducing input, forget and output gates, which control what previous information needs to be stored and updated. [[1](https://www.datasciencediscovery.com/index.php/2019/03/11/nlp-with-dl/)]\n",
        "\n",
        "LSTM is based on the following 3 major ideas:\n",
        "* Introduing a word to allow my neural network to learn from it\n",
        "* Does a previously learned word continue to make sense or should I forget about it?\n",
        "* Creating the final Output that is getting the predicted value."
      ]
    },
    {
      "cell_type": "code",
      "metadata": {
        "id": "0dbfN136zJ00",
        "colab_type": "code",
        "colab": {}
      },
      "source": [
        "## LSTM Model \n",
        "# EMBEDDING_DIM=128\n",
        "\n",
        "# model = tf.keras.Sequential([\n",
        "#     tf.keras.layers.Embedding(vocabulary_size, EMBEDDING_DIM, input_length=max_length),\n",
        "#     tf.keras.layers.LSTM(units=60, activation='tanh'),\n",
        "#     tf.keras.layers.Dense(1, activation='sigmoid')\n",
        "# ])\n",
        "# model.compile(loss='binary_crossentropy', optimizer='adam', metrics=[\"accuracy\"])"
      ],
      "execution_count": 31,
      "outputs": []
    },
    {
      "cell_type": "code",
      "metadata": {
        "id": "dhZ3GfDbozjr",
        "colab_type": "code",
        "colab": {
          "base_uri": "https://localhost:8080/",
          "height": 295
        },
        "outputId": "dc492793-428b-47f7-ff51-257acff3fb18"
      },
      "source": [
        "model.summary()"
      ],
      "execution_count": 32,
      "outputs": [
        {
          "output_type": "stream",
          "text": [
            "Model: \"sequential\"\n",
            "_________________________________________________________________\n",
            "Layer (type)                 Output Shape              Param #   \n",
            "=================================================================\n",
            "embedding (Embedding)        (None, 2441, 100)         21572300  \n",
            "_________________________________________________________________\n",
            "global_average_pooling1d (Gl (None, 100)               0         \n",
            "_________________________________________________________________\n",
            "dense (Dense)                (None, 24)                2424      \n",
            "_________________________________________________________________\n",
            "dense_1 (Dense)              (None, 1)                 25        \n",
            "=================================================================\n",
            "Total params: 21,574,749\n",
            "Trainable params: 21,574,749\n",
            "Non-trainable params: 0\n",
            "_________________________________________________________________\n"
          ],
          "name": "stdout"
        }
      ]
    },
    {
      "cell_type": "markdown",
      "metadata": {
        "id": "LX70LKFUozjs",
        "colab_type": "text"
      },
      "source": [
        "## Train the model"
      ]
    },
    {
      "cell_type": "code",
      "metadata": {
        "id": "nP5cHr99ozjt",
        "colab_type": "code",
        "colab": {
          "base_uri": "https://localhost:8080/",
          "height": 936
        },
        "outputId": "4126723a-db5c-48f5-a319-2510b49c235b"
      },
      "source": [
        "%%time\n",
        "print('Train..')\n",
        "\n",
        "model.fit(X_train_pad, y_train, batch_size=128, epochs=25, validation_data=(X_test_pad, y_test), verbose=2)"
      ],
      "execution_count": 33,
      "outputs": [
        {
          "output_type": "stream",
          "text": [
            "Train..\n",
            "Epoch 1/25\n",
            "196/196 - 35s - loss: 0.6905 - accuracy: 0.5349 - val_loss: 0.6847 - val_accuracy: 0.5058\n",
            "Epoch 2/25\n",
            "196/196 - 35s - loss: 0.6458 - accuracy: 0.6674 - val_loss: 0.5830 - val_accuracy: 0.7859\n",
            "Epoch 3/25\n",
            "196/196 - 34s - loss: 0.5046 - accuracy: 0.8046 - val_loss: 0.4510 - val_accuracy: 0.8140\n",
            "Epoch 4/25\n",
            "196/196 - 35s - loss: 0.3805 - accuracy: 0.8605 - val_loss: 0.3684 - val_accuracy: 0.8572\n",
            "Epoch 5/25\n",
            "196/196 - 34s - loss: 0.3087 - accuracy: 0.8871 - val_loss: 0.3298 - val_accuracy: 0.8706\n",
            "Epoch 6/25\n",
            "196/196 - 35s - loss: 0.2588 - accuracy: 0.9077 - val_loss: 0.3221 - val_accuracy: 0.8686\n",
            "Epoch 7/25\n",
            "196/196 - 35s - loss: 0.2245 - accuracy: 0.9220 - val_loss: 0.2897 - val_accuracy: 0.8866\n",
            "Epoch 8/25\n",
            "196/196 - 35s - loss: 0.1954 - accuracy: 0.9322 - val_loss: 0.2886 - val_accuracy: 0.8845\n",
            "Epoch 9/25\n",
            "196/196 - 35s - loss: 0.1724 - accuracy: 0.9420 - val_loss: 0.2796 - val_accuracy: 0.8920\n",
            "Epoch 10/25\n",
            "196/196 - 35s - loss: 0.1564 - accuracy: 0.9463 - val_loss: 0.2914 - val_accuracy: 0.8829\n",
            "Epoch 11/25\n",
            "196/196 - 35s - loss: 0.1380 - accuracy: 0.9536 - val_loss: 0.2732 - val_accuracy: 0.8960\n",
            "Epoch 12/25\n",
            "196/196 - 35s - loss: 0.1224 - accuracy: 0.9614 - val_loss: 0.2753 - val_accuracy: 0.8950\n",
            "Epoch 13/25\n",
            "196/196 - 35s - loss: 0.1091 - accuracy: 0.9664 - val_loss: 0.2804 - val_accuracy: 0.8938\n",
            "Epoch 14/25\n",
            "196/196 - 35s - loss: 0.0957 - accuracy: 0.9718 - val_loss: 0.2852 - val_accuracy: 0.8930\n",
            "Epoch 15/25\n",
            "196/196 - 35s - loss: 0.0864 - accuracy: 0.9751 - val_loss: 0.2812 - val_accuracy: 0.8960\n",
            "Epoch 16/25\n",
            "196/196 - 35s - loss: 0.0800 - accuracy: 0.9751 - val_loss: 0.2894 - val_accuracy: 0.8966\n",
            "Epoch 17/25\n",
            "196/196 - 35s - loss: 0.0747 - accuracy: 0.9774 - val_loss: 0.3031 - val_accuracy: 0.8940\n",
            "Epoch 18/25\n",
            "196/196 - 35s - loss: 0.0615 - accuracy: 0.9827 - val_loss: 0.3008 - val_accuracy: 0.8956\n",
            "Epoch 19/25\n",
            "196/196 - 35s - loss: 0.0566 - accuracy: 0.9843 - val_loss: 0.3043 - val_accuracy: 0.8953\n",
            "Epoch 20/25\n",
            "196/196 - 35s - loss: 0.0493 - accuracy: 0.9870 - val_loss: 0.3222 - val_accuracy: 0.8927\n",
            "Epoch 21/25\n",
            "196/196 - 35s - loss: 0.0428 - accuracy: 0.9892 - val_loss: 0.3180 - val_accuracy: 0.8942\n",
            "Epoch 22/25\n",
            "196/196 - 34s - loss: 0.0383 - accuracy: 0.9911 - val_loss: 0.3363 - val_accuracy: 0.8917\n",
            "Epoch 23/25\n",
            "196/196 - 35s - loss: 0.0341 - accuracy: 0.9921 - val_loss: 0.3395 - val_accuracy: 0.8923\n",
            "Epoch 24/25\n",
            "196/196 - 35s - loss: 0.0308 - accuracy: 0.9932 - val_loss: 0.3493 - val_accuracy: 0.8915\n",
            "Epoch 25/25\n",
            "196/196 - 35s - loss: 0.0264 - accuracy: 0.9948 - val_loss: 0.3497 - val_accuracy: 0.8920\n",
            "CPU times: user 25min 55s, sys: 58 s, total: 26min 53s\n",
            "Wall time: 14min 36s\n"
          ],
          "name": "stdout"
        }
      ]
    },
    {
      "cell_type": "markdown",
      "metadata": {
        "id": "R_VyQtZlwDKR",
        "colab_type": "text"
      },
      "source": [
        "### Test the Model"
      ]
    },
    {
      "cell_type": "code",
      "metadata": {
        "id": "yuWT3Op6ozjv",
        "colab_type": "code",
        "colab": {
          "base_uri": "https://localhost:8080/",
          "height": 35
        },
        "outputId": "d02ffe2a-b193-4938-903a-a1aa9950b5b9"
      },
      "source": [
        "test_1 = \"This movie was awesome!! I really liked it..\"\n",
        "test_2 = \"It was really bad movie, I did not like it.\"\n",
        "test = [test_1, test_2]\n",
        "test = clean_data(test)\n",
        "\n",
        "test_sample_token = tokenizer.texts_to_sequences(test)\n",
        "test_sample_pad_seq = pad_sequences(test_sample_token, maxlen=max_length)"
      ],
      "execution_count": 34,
      "outputs": [
        {
          "output_type": "stream",
          "text": [
            "100%|██████████| 2/2 [00:00<00:00, 9020.01it/s]\n"
          ],
          "name": "stderr"
        }
      ]
    },
    {
      "cell_type": "code",
      "metadata": {
        "id": "q-pTSRPvozjx",
        "colab_type": "code",
        "colab": {
          "base_uri": "https://localhost:8080/",
          "height": 52
        },
        "outputId": "0b8cccdb-ab60-4c19-d796-364fa0192f84"
      },
      "source": [
        "# Predict the output\n",
        "model.predict(x=test_sample_pad_seq)"
      ],
      "execution_count": 35,
      "outputs": [
        {
          "output_type": "execute_result",
          "data": {
            "text/plain": [
              "array([[0.76446176],\n",
              "       [0.24203014]], dtype=float32)"
            ]
          },
          "metadata": {
            "tags": []
          },
          "execution_count": 35
        }
      ]
    },
    {
      "cell_type": "code",
      "metadata": {
        "id": "CN7fsgAgyykC",
        "colab_type": "code",
        "colab": {}
      },
      "source": [
        "# Save the model to Json file\n",
        "model_json = model.to_json() # De-searialize the model so that we can save in json file\n",
        "with open('/gdrive/My Drive/data/IMDB_json_model.json', 'w') as fp:\n",
        "  fp.write(model_json)"
      ],
      "execution_count": 41,
      "outputs": []
    },
    {
      "cell_type": "code",
      "metadata": {
        "id": "glUOY1Xu0IWz",
        "colab_type": "code",
        "colab": {}
      },
      "source": [
        "# Or you can also save the model weights to HDF5\n",
        "model.save_weights('/gdrive/My Drive/data/Imdb_model_weights.h5')"
      ],
      "execution_count": 42,
      "outputs": []
    },
    {
      "cell_type": "code",
      "metadata": {
        "id": "_iXiIY5FeWh2",
        "colab_type": "code",
        "colab": {
          "base_uri": "https://localhost:8080/",
          "height": 159
        },
        "outputId": "c46c6a2e-8b60-4706-f59b-069c150b49cd"
      },
      "source": [
        "# Or save the full model \n",
        "model.save('/gdrive/My Drive/data/IMDB_full_model')"
      ],
      "execution_count": 45,
      "outputs": [
        {
          "output_type": "stream",
          "text": [
            "WARNING:tensorflow:From /usr/local/lib/python3.6/dist-packages/tensorflow/python/training/tracking/tracking.py:111: Model.state_updates (from tensorflow.python.keras.engine.training) is deprecated and will be removed in a future version.\n",
            "Instructions for updating:\n",
            "This property should not be used in TensorFlow 2.0, as updates are applied automatically.\n",
            "WARNING:tensorflow:From /usr/local/lib/python3.6/dist-packages/tensorflow/python/training/tracking/tracking.py:111: Layer.updates (from tensorflow.python.keras.engine.base_layer) is deprecated and will be removed in a future version.\n",
            "Instructions for updating:\n",
            "This property should not be used in TensorFlow 2.0, as updates are applied automatically.\n",
            "INFO:tensorflow:Assets written to: /gdrive/My Drive/data/IMDB_full_model/assets\n"
          ],
          "name": "stdout"
        }
      ]
    },
    {
      "cell_type": "code",
      "metadata": {
        "id": "tUeoJEX4qJBt",
        "colab_type": "code",
        "colab": {}
      },
      "source": [
        "# Save tokenizer\n",
        "import json\n",
        "tokenizer_json = tokenizer.to_json()\n",
        "with open('/gdrive/My Drive/data/tokenizer.json', 'w', encoding='utf-8') as f:\n",
        "    f.write(json.dumps(tokenizer_json, ensure_ascii=False))\n"
      ],
      "execution_count": 44,
      "outputs": []
    },
    {
      "cell_type": "code",
      "metadata": {
        "id": "0s3nU_w6Gv7m",
        "colab_type": "code",
        "colab": {}
      },
      "source": [
        ""
      ],
      "execution_count": 40,
      "outputs": []
    }
  ]
}